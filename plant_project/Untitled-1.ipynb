{
 "cells": [
  {
   "cell_type": "markdown",
   "metadata": {},
   "source": [
    "IMPORTING MODULES"
   ]
  },
  {
   "cell_type": "code",
   "execution_count": 1,
   "metadata": {},
   "outputs": [],
   "source": [
    "import numpy as np\n",
    "import pandas as pd \n",
    "import os \n",
    "from sklearn.metrics import classification_report\n",
    "import seaborn as sn ; sn.set(font_scale = 1.4)\n",
    "from sklearn.utils import shuffle\n",
    "import matplotlib.pyplot as plt \n",
    "import cv2\n",
    "import tensorflow as tf \n",
    "from tqdm import tqdm"
   ]
  },
  {
   "cell_type": "markdown",
   "metadata": {},
   "source": [
    "DEFINING CLASS LABELS"
   ]
  },
  {
   "cell_type": "code",
   "execution_count": 2,
   "metadata": {},
   "outputs": [
    {
     "name": "stdout",
     "output_type": "stream",
     "text": [
      "{'Alstonia Scholaris': 0, 'Chinar': 1, 'Mongo': 2, 'Pongamia Pinnata': 3}\n"
     ]
    }
   ],
   "source": [
    "# class_name = [\"femaleeyes\" , \"maleeyes\" ]\n",
    "class_name = [\"Alstonia Scholaris\" , \"Chinar\" ,\"Mongo\" , \"Pongamia Pinnata\"]\n",
    "class_name_label = {class_name : i for i , class_name in enumerate (class_name)}\n",
    "nb_classes = len(class_name)\n",
    "print(class_name_label)\n",
    "IMAGE_SIZE = (128 , 128)"
   ]
  },
  {
   "cell_type": "markdown",
   "metadata": {},
   "source": [
    "LOADING OUR DATASET AND PERPROCESSING IT"
   ]
  },
  {
   "cell_type": "code",
   "execution_count": 3,
   "metadata": {},
   "outputs": [],
   "source": [
    "# DATASET LINK : \n",
    "# https://data.mendeley.com/datasets/hb74ynkjcn/5 \n",
    "def load_data ():\n",
    "    # DIRECTORY = r\"C:\\Users\\THEHAD\\Desktop\\plant_project\\eyes\"\n",
    "    DIRECTORY = r\"C:\\Users\\THEHAD\\Desktop\\plant_project\\dataset\"\n",
    "\n",
    "    CATEGORY = [\"train\" , \"test\"]\n",
    "    output = []\n",
    "\n",
    "    for category in CATEGORY :\n",
    "        path = os.path.join(DIRECTORY,category)\n",
    "        images=[]\n",
    "        labels=[]\n",
    "\n",
    "        print(\"loading {}\".format(category))\n",
    "        for folder in os.listdir(path):\n",
    "            label = class_name_label[folder]\n",
    "\n",
    "            for file in os.listdir(os.path.join(path,folder)):\n",
    "                img_path =os.path.join(os.path.join(path,folder),file)\n",
    "                image = cv2.imread(img_path)\n",
    "\n",
    "                image =cv2.cvtColor(image,cv2.COLOR_BGR2RGB)\n",
    "                image = cv2.resize(image,IMAGE_SIZE)\n",
    "                \n",
    "                images.append(image)\n",
    "                labels.append(label)\n",
    "        images =np.array(images,dtype='float32')\n",
    "        labels= np.array(labels,dtype=\"int32\")\n",
    "        output.append((images,labels))\n",
    "    return output\n",
    "\n",
    "\n"
   ]
  },
  {
   "cell_type": "markdown",
   "metadata": {},
   "source": [
    "\n",
    "CREATING TRAINING AND TEST DATASET"
   ]
  },
  {
   "cell_type": "code",
   "execution_count": 4,
   "metadata": {},
   "outputs": [
    {
     "name": "stdout",
     "output_type": "stream",
     "text": [
      "loading train\n",
      "loading test\n"
     ]
    }
   ],
   "source": [
    "(train_images,train_labels),(test_images , test_labels)= load_data()"
   ]
  },
  {
   "cell_type": "markdown",
   "metadata": {},
   "source": [
    "FLATTEN THE IMAGE"
   ]
  },
  {
   "cell_type": "code",
   "execution_count": 5,
   "metadata": {},
   "outputs": [],
   "source": [
    "train_images = train_images/255.0\n",
    "test_images = test_images/255.0"
   ]
  },
  {
   "cell_type": "code",
   "execution_count": 6,
   "metadata": {},
   "outputs": [],
   "source": [
    "train_images,train_labels = shuffle(train_images,train_labels, random_state=25)"
   ]
  },
  {
   "cell_type": "markdown",
   "metadata": {},
   "source": [
    "DATA AGUMANTATION"
   ]
  },
  {
   "cell_type": "code",
   "execution_count": 8,
   "metadata": {},
   "outputs": [],
   "source": [
    "\n",
    "from keras.preprocessing.image import ImageDataGenerator\n",
    "datagen = ImageDataGenerator(\n",
    "          rotation_range=5, \n",
    "          height_shift_range=0.1,\n",
    "          horizontal_flip=5,\n",
    "        \n",
    ") \n",
    "\n",
    "datagen.fit(train_images)"
   ]
  },
  {
   "cell_type": "markdown",
   "metadata": {},
   "source": [
    "\n",
    "CREATING CNN\n"
   ]
  },
  {
   "cell_type": "code",
   "execution_count": 9,
   "metadata": {},
   "outputs": [],
   "source": [
    "model = tf.keras.Sequential([\n",
    "    tf.keras.layers.Conv2D(filters=32, kernel_size=(3,3),activation='relu' ,input_shape=(128,128,3)),\n",
    "    tf.keras.layers.MaxPool2D(2,2),\n",
    "    tf.keras.layers.Conv2D(filters=64, kernel_size=(3,3), activation='relu' ),\n",
    "    tf.keras.layers.MaxPool2D(2,2),\n",
    "    tf.keras.layers.Conv2D(filters =128, kernel_size=(3,3),activation='relu' ),\n",
    "    tf.keras.layers.MaxPool2D(2,2),\n",
    "    tf.keras.layers.Conv2D(filters=256, kernel_size=(3,3),activation='relu' ),\n",
    "    tf.keras.layers.MaxPool2D(2,2),\n",
    "    tf.keras.layers.Dropout(rate=0.25 ),\n",
    "    tf.keras.layers.Flatten(),\n",
    "    tf.keras.layers.Dense(512 ),\n",
    "    tf.keras.layers.Dropout(rate=0.5),\n",
    "    tf.keras.layers.Dense(5  ,  activation=tf.nn.softmax),\n",
    "\n",
    "\n",
    "\n",
    "])"
   ]
  },
  {
   "cell_type": "markdown",
   "metadata": {},
   "source": [
    "COMPILE THE MODEL"
   ]
  },
  {
   "cell_type": "code",
   "execution_count": 48,
   "metadata": {},
   "outputs": [
    {
     "name": "stderr",
     "output_type": "stream",
     "text": [
      "c:\\Users\\THEHAD\\anaconda3\\envs\\tf\\lib\\site-packages\\keras\\optimizer_v2\\optimizer_v2.py:355: UserWarning: The `lr` argument is deprecated, use `learning_rate` instead.\n",
      "  warnings.warn(\n"
     ]
    }
   ],
   "source": [
    "# # from keras.optimizers import Adam\n",
    "from tensorflow.keras.optimizers import Adam\n",
    "\n",
    "model.compile(optimizer= Adam(lr=0.0003),loss = \"sparse_categorical_crossentropy\" ,metrics=['accuracy'])\n"
   ]
  },
  {
   "cell_type": "markdown",
   "metadata": {},
   "source": [
    "TRAINING THE MODEL"
   ]
  },
  {
   "cell_type": "code",
   "execution_count": 49,
   "metadata": {},
   "outputs": [
    {
     "name": "stdout",
     "output_type": "stream",
     "text": [
      "Epoch 1/35\n",
      "21/21 [==============================] - 7s 310ms/step - loss: 0.3370 - accuracy: 0.9263 - val_loss: 0.0598 - val_accuracy: 0.9872\n",
      "Epoch 2/35\n",
      "21/21 [==============================] - 6s 291ms/step - loss: 0.0245 - accuracy: 0.9968 - val_loss: 0.0504 - val_accuracy: 0.9872\n",
      "Epoch 3/35\n",
      "21/21 [==============================] - 6s 272ms/step - loss: 0.0182 - accuracy: 0.9968 - val_loss: 0.0390 - val_accuracy: 0.9872\n",
      "Epoch 4/35\n",
      "21/21 [==============================] - 5s 258ms/step - loss: 0.0137 - accuracy: 1.0000 - val_loss: 0.0656 - val_accuracy: 0.9615\n",
      "Epoch 5/35\n",
      "21/21 [==============================] - 5s 249ms/step - loss: 0.0126 - accuracy: 0.9968 - val_loss: 0.0813 - val_accuracy: 0.9872\n",
      "Epoch 6/35\n",
      "21/21 [==============================] - 5s 242ms/step - loss: 0.0285 - accuracy: 0.9904 - val_loss: 0.1654 - val_accuracy: 0.9615\n",
      "Epoch 7/35\n",
      "21/21 [==============================] - 5s 249ms/step - loss: 0.0560 - accuracy: 0.9808 - val_loss: 0.0147 - val_accuracy: 1.0000\n",
      "Epoch 8/35\n",
      "21/21 [==============================] - 5s 242ms/step - loss: 0.0529 - accuracy: 0.9808 - val_loss: 0.1007 - val_accuracy: 0.9744\n",
      "Epoch 9/35\n",
      "21/21 [==============================] - 5s 242ms/step - loss: 0.0180 - accuracy: 0.9968 - val_loss: 0.1307 - val_accuracy: 0.9744\n",
      "Epoch 10/35\n",
      "21/21 [==============================] - 5s 248ms/step - loss: 0.0144 - accuracy: 0.9968 - val_loss: 0.0598 - val_accuracy: 0.9872\n",
      "Epoch 11/35\n",
      "21/21 [==============================] - 5s 251ms/step - loss: 0.0025 - accuracy: 1.0000 - val_loss: 0.0345 - val_accuracy: 0.9872\n",
      "Epoch 12/35\n",
      "21/21 [==============================] - 5s 244ms/step - loss: 0.0015 - accuracy: 1.0000 - val_loss: 0.0741 - val_accuracy: 0.9872\n",
      "Epoch 13/35\n",
      "21/21 [==============================] - 5s 257ms/step - loss: 0.0015 - accuracy: 1.0000 - val_loss: 0.0496 - val_accuracy: 0.9872\n",
      "Epoch 14/35\n",
      "21/21 [==============================] - 5s 252ms/step - loss: 0.0016 - accuracy: 1.0000 - val_loss: 0.0547 - val_accuracy: 0.9872\n",
      "Epoch 15/35\n",
      "21/21 [==============================] - 5s 244ms/step - loss: 0.0512 - accuracy: 0.9776 - val_loss: 0.1748 - val_accuracy: 0.9103\n",
      "Epoch 16/35\n",
      "21/21 [==============================] - 5s 248ms/step - loss: 0.1191 - accuracy: 0.9455 - val_loss: 0.0969 - val_accuracy: 0.9872\n",
      "Epoch 17/35\n",
      "21/21 [==============================] - 5s 262ms/step - loss: 0.0286 - accuracy: 0.9968 - val_loss: 0.0332 - val_accuracy: 0.9872\n",
      "Epoch 18/35\n",
      "21/21 [==============================] - 5s 244ms/step - loss: 0.0069 - accuracy: 1.0000 - val_loss: 0.0558 - val_accuracy: 0.9872\n",
      "Epoch 19/35\n",
      "21/21 [==============================] - 5s 241ms/step - loss: 0.0053 - accuracy: 1.0000 - val_loss: 0.0681 - val_accuracy: 0.9872\n",
      "Epoch 20/35\n",
      "21/21 [==============================] - 5s 248ms/step - loss: 0.0022 - accuracy: 1.0000 - val_loss: 0.0631 - val_accuracy: 0.9872\n",
      "Epoch 21/35\n",
      "21/21 [==============================] - 5s 253ms/step - loss: 9.7212e-04 - accuracy: 1.0000 - val_loss: 0.0471 - val_accuracy: 0.9872\n",
      "Epoch 22/35\n",
      "21/21 [==============================] - 5s 245ms/step - loss: 0.0025 - accuracy: 1.0000 - val_loss: 0.0551 - val_accuracy: 0.9872\n",
      "Epoch 23/35\n",
      "21/21 [==============================] - 5s 256ms/step - loss: 9.7127e-04 - accuracy: 1.0000 - val_loss: 0.0485 - val_accuracy: 0.9872\n",
      "Epoch 24/35\n",
      "21/21 [==============================] - 5s 248ms/step - loss: 8.3922e-04 - accuracy: 1.0000 - val_loss: 0.0479 - val_accuracy: 0.9872\n",
      "Epoch 25/35\n",
      "21/21 [==============================] - 5s 242ms/step - loss: 5.6429e-04 - accuracy: 1.0000 - val_loss: 0.0590 - val_accuracy: 0.9872\n",
      "Epoch 26/35\n",
      "21/21 [==============================] - 5s 247ms/step - loss: 4.8210e-04 - accuracy: 1.0000 - val_loss: 0.0713 - val_accuracy: 0.9872\n",
      "Epoch 27/35\n",
      "21/21 [==============================] - 5s 243ms/step - loss: 4.5657e-04 - accuracy: 1.0000 - val_loss: 0.0610 - val_accuracy: 0.9872\n",
      "Epoch 28/35\n",
      "21/21 [==============================] - 5s 237ms/step - loss: 2.9784e-04 - accuracy: 1.0000 - val_loss: 0.0572 - val_accuracy: 0.9872\n",
      "Epoch 29/35\n",
      "21/21 [==============================] - 5s 246ms/step - loss: 3.4522e-04 - accuracy: 1.0000 - val_loss: 0.0557 - val_accuracy: 0.9872\n",
      "Epoch 30/35\n",
      "21/21 [==============================] - 5s 243ms/step - loss: 2.8768e-04 - accuracy: 1.0000 - val_loss: 0.0577 - val_accuracy: 0.9872\n",
      "Epoch 31/35\n",
      "21/21 [==============================] - 5s 250ms/step - loss: 2.7243e-04 - accuracy: 1.0000 - val_loss: 0.0561 - val_accuracy: 0.9872\n",
      "Epoch 32/35\n",
      "21/21 [==============================] - 5s 247ms/step - loss: 2.3593e-04 - accuracy: 1.0000 - val_loss: 0.0577 - val_accuracy: 0.9872\n",
      "Epoch 33/35\n",
      "21/21 [==============================] - 5s 240ms/step - loss: 2.8141e-04 - accuracy: 1.0000 - val_loss: 0.0600 - val_accuracy: 0.9872\n",
      "Epoch 34/35\n",
      "21/21 [==============================] - 5s 242ms/step - loss: 2.1636e-04 - accuracy: 1.0000 - val_loss: 0.0519 - val_accuracy: 0.9872\n",
      "Epoch 35/35\n",
      "21/21 [==============================] - 5s 246ms/step - loss: 2.1402e-04 - accuracy: 1.0000 - val_loss: 0.0535 - val_accuracy: 0.9872\n"
     ]
    }
   ],
   "source": [
    "history = model.fit(train_images,train_labels,batch_size = 15 ,epochs= 35,validation_split=0.2)"
   ]
  },
  {
   "cell_type": "markdown",
   "metadata": {},
   "source": [
    "ACCURACY CURVE"
   ]
  },
  {
   "cell_type": "code",
   "execution_count": 50,
   "metadata": {},
   "outputs": [],
   "source": [
    "def plot_accuracy(history):\n",
    "    fig = plt.figure(figsize=(10,5))\n",
    "    plt.subplot(221)\n",
    "    plt.plot(history.history['accuracy'],'bo--',label = 'acc')\n",
    "    plt.plot(history.history['val_accuracy'],'ro--',label = 'val_acc')\n",
    "    plt.title(\"train_acc VS val_acc \")\n",
    "    plt.ylabel(\"accuracy\")\n",
    "    plt.xlabel(\"epochs\")\n",
    "    plt.legend()\n",
    "    plt.show\n",
    "\n"
   ]
  },
  {
   "cell_type": "code",
   "execution_count": 51,
   "metadata": {},
   "outputs": [
    {
     "data": {
      "image/png": "[encoded data removed]",
      "text/plain": [
       "<Figure size 720x360 with 1 Axes>"
      ]
     },
     "metadata": {
      "needs_background": "light"
     },
     "output_type": "display_data"
    }
   ],
   "source": [
    "plot_accuracy(history)"
   ]
  },
  {
   "cell_type": "markdown",
   "metadata": {},
   "source": [
    "LOSS CURVE\n"
   ]
  },
  {
   "cell_type": "code",
   "execution_count": 52,
   "metadata": {},
   "outputs": [],
   "source": [
    "def plot_loss(history):\n",
    "    fig = plt.figure(figsize=(10,5))\n",
    "    plt.subplot(221)\n",
    "    plt.plot(history.history['loss'],'bo--',label = 'loss')\n",
    "    plt.plot(history.history['val_loss'],'ro--',label = 'val_loss')\n",
    "    plt.title(\"train_loss VS val_loss \")\n",
    "    plt.ylabel(\"loss\")\n",
    "    plt.xlabel(\"epochs\")\n",
    "    plt.legend()\n",
    "    plt.show"
   ]
  },
  {
   "cell_type": "code",
   "execution_count": 53,
   "metadata": {},
   "outputs": [
    {
     "data": {
      "image/png": "[encoded data removed]",
      "text/plain": [
       "<Figure size 720x360 with 1 Axes>"
      ]
     },
     "metadata": {
      "needs_background": "light"
     },
     "output_type": "display_data"
    }
   ],
   "source": [
    "plot_loss(history)"
   ]
  },
  {
   "cell_type": "markdown",
   "metadata": {},
   "source": [
    "CLASSIFICATION REBORT"
   ]
  },
  {
   "cell_type": "code",
   "execution_count": 55,
   "metadata": {},
   "outputs": [
    {
     "name": "stdout",
     "output_type": "stream",
     "text": [
      "              precision    recall  f1-score   support\n",
      "\n",
      "           0       1.00      0.94      0.97        50\n",
      "           1       1.00      1.00      1.00        48\n",
      "           2       1.00      0.98      0.99        50\n",
      "           3       0.93      1.00      0.96        50\n",
      "\n",
      "    accuracy                           0.98       198\n",
      "   macro avg       0.98      0.98      0.98       198\n",
      "weighted avg       0.98      0.98      0.98       198\n",
      "\n"
     ]
    }
   ],
   "source": [
    "pred = model.predict(test_images)\n",
    "pred = np.argmax(pred, axis=1)\n",
    "print(classification_report(test_labels,pred))"
   ]
  },
  {
   "cell_type": "markdown",
   "metadata": {},
   "source": [
    "CONFUSION METRIX"
   ]
  },
  {
   "cell_type": "code",
   "execution_count": 73,
   "metadata": {},
   "outputs": [
    {
     "name": "stderr",
     "output_type": "stream",
     "text": [
      "c:\\Users\\THEHAD\\anaconda3\\envs\\tf\\lib\\site-packages\\keras\\engine\\training.py:2035: UserWarning: `Model.predict_generator` is deprecated and will be removed in a future version. Please use `Model.predict`, which supports generators.\n",
      "  warnings.warn('`Model.predict_generator` is deprecated and '\n"
     ]
    },
    {
     "name": "stdout",
     "output_type": "stream",
     "text": [
      "WARNING:tensorflow:Your input ran out of data; interrupting training. Make sure that your dataset or generator can generate at least `steps_per_epoch * epochs` batches (in this case, 4500 batches). You may need to use the repeat() function when building your dataset.\n",
      "Confusion Matrix\n",
      "[[47  0  0  3]\n",
      " [ 0 48  0  0]\n",
      " [ 0  0 49  1]\n",
      " [ 0  0  0 50]]\n"
     ]
    }
   ],
   "source": [
    "from sklearn.metrics import classification_report, confusion_matrix\n",
    "Y_pred = model.predict_generator(test_images, steps=4500 )\n",
    "y_pred = np.argmax(Y_pred, axis=1)\n",
    "print('Confusion Matrix')\n",
    "cm=confusion_matrix(test_labels, y_pred)\n",
    "print(cm)"
   ]
  },
  {
   "cell_type": "code",
   "execution_count": 77,
   "metadata": {},
   "outputs": [
    {
     "data": {
      "text/plain": [
       "<AxesSubplot:>"
      ]
     },
     "execution_count": 77,
     "metadata": {},
     "output_type": "execute_result"
    },
    {
     "data": {
      "image/png": "[encoded data removed]",
      "text/plain": [
       "<Figure size 432x288 with 2 Axes>"
      ]
     },
     "metadata": {
      "needs_background": "light"
     },
     "output_type": "display_data"
    }
   ],
   "source": [
    "\n",
    "sn.heatmap(cm, annot=True)"
   ]
  }
 ],
 "metadata": {
  "interpreter": {
   "hash": "a564d253bbb7efdbe0863480b14caebd589679eac6ae8561420d6ac4b63643c8"
  },
  "kernelspec": {
   "display_name": "Python 3.9.12 ('tf')",
   "language": "python",
   "name": "python3"
  },
  "language_info": {
   "codemirror_mode": {
    "name": "ipython",
    "version": 3
   },
   "file_extension": ".py",
   "mimetype": "text/x-python",
   "name": "python",
   "nbconvert_exporter": "python",
   "pygments_lexer": "ipython3",
   "version": "3.9.12"
  },
  "orig_nbformat": 4
 },
 "nbformat": 4,
 "nbformat_minor": 2
}
